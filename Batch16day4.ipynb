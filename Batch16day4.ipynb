{
 "cells": [
  {
   "cell_type": "code",
   "execution_count": null,
   "metadata": {},
   "outputs": [],
   "source": [
    "# Class - 4 (03/April/2020)\n",
    "\n",
    "# List of Data Types \n",
    "\n",
    "# Syntax to define list []---> sqare braces"
   ]
  },
  {
   "cell_type": "code",
   "execution_count": 1,
   "metadata": {},
   "outputs": [
    {
     "name": "stdout",
     "output_type": "stream",
     "text": [
      "My current employs are ['Nani', 'Krishna', 'Manvi', 'Janvi', 'Vicky', 'Anna']\n"
     ]
    }
   ],
   "source": [
    "Employs = ['Nani','Krishna','Manvi','Janvi','Vicky','Anna']\n",
    "print ('My current employs are',Employs)"
   ]
  },
  {
   "cell_type": "code",
   "execution_count": null,
   "metadata": {},
   "outputs": [],
   "source": [
    "# Introduction to indexing\n",
    "# its staring from 0,1,2,3, etc\n",
    "# Syntax index number in sqare brakets Ex: [o]\n"
   ]
  },
  {
   "cell_type": "code",
   "execution_count": 2,
   "metadata": {},
   "outputs": [
    {
     "name": "stdout",
     "output_type": "stream",
     "text": [
      "Nani Krishna\n"
     ]
    }
   ],
   "source": [
    "print (Employs[0],Employs[1])"
   ]
  },
  {
   "cell_type": "code",
   "execution_count": 3,
   "metadata": {},
   "outputs": [
    {
     "name": "stdout",
     "output_type": "stream",
     "text": [
      "['Nani', 'Krishnaveni', 'Manvi', 'Janvi', 'Vicky', 'Anna']\n"
     ]
    }
   ],
   "source": [
    "# Replace existing list with new element\n",
    "Employs [1] = 'Krishnaveni'\n",
    "print(Employs)"
   ]
  },
  {
   "cell_type": "code",
   "execution_count": 4,
   "metadata": {},
   "outputs": [
    {
     "name": "stdout",
     "output_type": "stream",
     "text": [
      "['Nani', 'Krishnaveni', 'Manvi', 'Janvi', 'Vicky', 'Anna', 'Lakshmi']\n"
     ]
    }
   ],
   "source": [
    "# new element Adding to list \n",
    "Employs.append ('Lakshmi')  #(append method - elements will be added  at the end of the current list )\n",
    "print (Employs)"
   ]
  },
  {
   "cell_type": "code",
   "execution_count": 5,
   "metadata": {},
   "outputs": [
    {
     "name": "stdout",
     "output_type": "stream",
     "text": [
      "['Prasad', 'Nani', 'Krishnaveni', 'Manvi', 'Janvi', 'Vicky', 'Anna', 'Lakshmi']\n"
     ]
    }
   ],
   "source": [
    "# add first element as 'Prasad' to list \n",
    "Employs.insert(0,'Prasad')\n",
    "print(Employs)"
   ]
  },
  {
   "cell_type": "code",
   "execution_count": 6,
   "metadata": {},
   "outputs": [
    {
     "name": "stdout",
     "output_type": "stream",
     "text": [
      "['Prasad', 'Nani', 'Krishnaveni', 'Manvi', 'Janvi', 'Vicky', 'Anna']\n"
     ]
    }
   ],
   "source": [
    "# deleting elements in the list by using pop method\n",
    "Employs.pop() # By defualt this method delete last element in the list\n",
    "print(Employs)"
   ]
  },
  {
   "cell_type": "code",
   "execution_count": 7,
   "metadata": {},
   "outputs": [
    {
     "name": "stdout",
     "output_type": "stream",
     "text": [
      "['Nani', 'Krishnaveni', 'Manvi', 'Janvi', 'Vicky', 'Anna']\n"
     ]
    }
   ],
   "source": [
    "# delete 'Prasad' from list by using pop\n",
    "Employs.pop(0) #by passing element indexing num into method\n",
    "print (Employs)"
   ]
  },
  {
   "cell_type": "code",
   "execution_count": 8,
   "metadata": {},
   "outputs": [
    {
     "name": "stdout",
     "output_type": "stream",
     "text": [
      "['Nani', 'Krishnaveni', 'Manvi', 'Janvi', 'Vicky']\n"
     ]
    }
   ],
   "source": [
    "# pop method not delete records permenetly its keep carcopy of records.\n",
    "# use del method to remove elements permenemtly \n",
    "\n",
    "del Employs[5]\n",
    "print (Employs)\n"
   ]
  },
  {
   "cell_type": "code",
   "execution_count": 9,
   "metadata": {},
   "outputs": [
    {
     "data": {
      "text/plain": [
       "'Nani'"
      ]
     },
     "execution_count": 9,
     "metadata": {},
     "output_type": "execute_result"
    }
   ],
   "source": [
    "#Code enhancements (Display/Cal elementsfrom the list without using print method)\n",
    "Employs[0].title()\n"
   ]
  },
  {
   "cell_type": "code",
   "execution_count": 10,
   "metadata": {},
   "outputs": [
    {
     "name": "stdout",
     "output_type": "stream",
     "text": [
      "Company director Name, Nani\n"
     ]
    }
   ],
   "source": [
    "print (f\"Company director Name, {Employs[0].title()}\")"
   ]
  },
  {
   "cell_type": "code",
   "execution_count": null,
   "metadata": {},
   "outputs": [],
   "source": []
  }
 ],
 "metadata": {
  "kernelspec": {
   "display_name": "Python 3",
   "language": "python",
   "name": "python3"
  },
  "language_info": {
   "codemirror_mode": {
    "name": "ipython",
    "version": 3
   },
   "file_extension": ".py",
   "mimetype": "text/x-python",
   "name": "python",
   "nbconvert_exporter": "python",
   "pygments_lexer": "ipython3",
   "version": "3.7.6"
  }
 },
 "nbformat": 4,
 "nbformat_minor": 4
}
