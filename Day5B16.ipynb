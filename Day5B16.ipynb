{
 "cells": [
  {
   "cell_type": "code",
   "execution_count": 1,
   "metadata": {},
   "outputs": [
    {
     "name": "stdout",
     "output_type": "stream",
     "text": [
      "['Nani', 'Mani', 'Janvi', 'Mani']\n"
     ]
    }
   ],
   "source": [
    "My_Staff = ['Nani','Mani','Janvi','Mani']\n",
    "print (My_Staff)"
   ]
  },
  {
   "cell_type": "code",
   "execution_count": 3,
   "metadata": {},
   "outputs": [
    {
     "name": "stdout",
     "output_type": "stream",
     "text": [
      "['Nani', 'Janvi']\n"
     ]
    }
   ],
   "source": [
    "#Deleting variable with out using index value\n",
    "My_Staff.remove('Mani') #(it will  be remove 'mani' varibles  )\n",
    "print (My_Staff)   #Question (How to remove one duplicate variables from list )"
   ]
  },
  {
   "cell_type": "code",
   "execution_count": 5,
   "metadata": {},
   "outputs": [
    {
     "name": "stdout",
     "output_type": "stream",
     "text": [
      "['Red', 'Amber', 'Yellow', 'Green', 'blue', 'White']\n"
     ]
    }
   ],
   "source": [
    "#Introduction to Organising a list\n",
    "My_Teams=['Red','Amber','Yellow','Green','blue','White']\n",
    "print (My_Teams)"
   ]
  },
  {
   "cell_type": "code",
   "execution_count": 6,
   "metadata": {},
   "outputs": [
    {
     "name": "stdout",
     "output_type": "stream",
     "text": [
      "['Amber', 'Green', 'Red', 'White', 'Yellow', 'blue']\n"
     ]
    }
   ],
   "source": [
    "#Sort (A-->Z) List Permently by using 'sort'\n",
    "My_Teams.sort()\n",
    "print (My_Teams)"
   ]
  },
  {
   "cell_type": "code",
   "execution_count": 8,
   "metadata": {},
   "outputs": [
    {
     "name": "stdout",
     "output_type": "stream",
     "text": [
      "['Red', 'Amber', 'Yellow', 'Green', 'blue', 'White']\n",
      "['Amber', 'Green', 'Red', 'White', 'Yellow', 'blue']\n"
     ]
    }
   ],
   "source": [
    "# sort the list temporarily\n",
    "My_Colours=['Red','Amber','Yellow','Green','blue','White']\n",
    "print (My_Colours)\n",
    "\n",
    "print (sorted(My_Colours) )  #(values will sorted temporarily)"
   ]
  },
  {
   "cell_type": "code",
   "execution_count": 10,
   "metadata": {},
   "outputs": [
    {
     "name": "stdout",
     "output_type": "stream",
     "text": [
      "['Red', 'Amber', 'Yellow', 'Green', 'blue', 'White']\n",
      "['White', 'blue', 'Green', 'Yellow', 'Amber', 'Red']\n"
     ]
    }
   ],
   "source": [
    "#reverse the list\n",
    "print (My_Colours)\n",
    "My_Colours.reverse()\n",
    "print (My_Colours)"
   ]
  },
  {
   "cell_type": "code",
   "execution_count": 13,
   "metadata": {},
   "outputs": [
    {
     "name": "stdout",
     "output_type": "stream",
     "text": [
      "['White', 'blue', 'Green', 'Yellow', 'Amber', 'Red']\n"
     ]
    },
    {
     "data": {
      "text/plain": [
       "6"
      ]
     },
     "execution_count": 13,
     "metadata": {},
     "output_type": "execute_result"
    }
   ],
   "source": [
    "#finding length\n",
    "print (My_Colours)\n",
    "len(My_Colours)"
   ]
  },
  {
   "cell_type": "code",
   "execution_count": null,
   "metadata": {},
   "outputs": [],
   "source": []
  }
 ],
 "metadata": {
  "kernelspec": {
   "display_name": "Python 3",
   "language": "python",
   "name": "python3"
  },
  "language_info": {
   "codemirror_mode": {
    "name": "ipython",
    "version": 3
   },
   "file_extension": ".py",
   "mimetype": "text/x-python",
   "name": "python",
   "nbconvert_exporter": "python",
   "pygments_lexer": "ipython3",
   "version": "3.7.6"
  }
 },
 "nbformat": 4,
 "nbformat_minor": 4
}
